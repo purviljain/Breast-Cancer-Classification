{
 "cells": [
  {
   "cell_type": "markdown",
   "metadata": {
    "colab_type": "text",
    "id": "Oex88qd38Thn"
   },
   "source": []
  },
  {
   "cell_type": "code",
   "execution_count": 1,
   "metadata": {
    "colab": {
     "base_uri": "https://localhost:8080/",
     "height": 176,
     "resources": {
      "http://localhost:8080/nbextensions/google.colab/files.js": {
       "data": "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",
       "headers": [
        [
         "content-type",
         "application/javascript"
        ]
       ],
       "ok": true,
       "status": 200,
       "status_text": ""
      }
     }
    },
    "colab_type": "code",
    "id": "m_NRnXsJzphf",
    "outputId": "2b6dc6c2-9c43-4f36-96a3-92a1b5ebd3a5"
   },
   "outputs": [
    {
     "data": {
      "text/html": [
       "\n",
       "     <input type=\"file\" id=\"files-b22347ce-35b2-4ab8-864f-94e27a7aefa0\" name=\"files[]\" multiple disabled />\n",
       "     <output id=\"result-b22347ce-35b2-4ab8-864f-94e27a7aefa0\">\n",
       "      Upload widget is only available when the cell has been executed in the\n",
       "      current browser session. Please rerun this cell to enable.\n",
       "      </output>\n",
       "      <script src=\"/nbextensions/google.colab/files.js\"></script> "
      ],
      "text/plain": [
       "<IPython.core.display.HTML object>"
      ]
     },
     "metadata": {
      "tags": []
     },
     "output_type": "display_data"
    },
    {
     "name": "stdout",
     "output_type": "stream",
     "text": [
      "Saving xtest.csv to xtest.csv\n",
      "Saving xtrain.csv to xtrain.csv\n",
      "Saving ytest.csv to ytest.csv\n",
      "Saving ytrain.csv to ytrain.csv\n"
     ]
    }
   ],
   "source": [
    "import pandas as pd\n",
    "\n",
    "from google.colab import files\n",
    "file = files.upload()\n",
    "X_train = pd.read_csv(\"xtrain.csv\", header=None)\n",
    "Y_train = pd.read_csv(\"ytrain.csv\", header=None)\n",
    "X_test = pd.read_csv(\"xtest.csv\", header=None)\n",
    "Y_test = pd.read_csv(\"ytest.csv\", header=None)"
   ]
  },
  {
   "cell_type": "markdown",
   "metadata": {
    "colab_type": "text",
    "id": "bL4z0BArzqff"
   },
   "source": []
  },
  {
   "cell_type": "code",
   "execution_count": 0,
   "metadata": {
    "colab": {},
    "colab_type": "code",
    "id": "LoWtmalR80De"
   },
   "outputs": [],
   "source": [
    "from keras.models import Sequential\n",
    "from keras.layers import Dense\n",
    "\n",
    "classifier = Sequential() # Initialising the ANN\n",
    "\n",
    "classifier.add(Dense(units = 16, activation = 'relu', input_dim = 30))\n",
    "classifier.add(Dense(units = 8, activation = 'relu'))\n",
    "classifier.add(Dense(units = 7, activation = 'relu'))\n",
    "classifier.add(Dense(units = 6, activation = 'relu'))\n",
    "classifier.add(Dense(units = 1, activation = 'sigmoid'))"
   ]
  },
  {
   "cell_type": "markdown",
   "metadata": {
    "colab_type": "text",
    "id": "cJ_MStxe9CbN"
   },
   "source": []
  },
  {
   "cell_type": "code",
   "execution_count": 0,
   "metadata": {
    "colab": {},
    "colab_type": "code",
    "id": "wR2O00E39C7E"
   },
   "outputs": [],
   "source": [
    "classifier.compile(optimizer = 'rmsprop', loss = 'binary_crossentropy')"
   ]
  },
  {
   "cell_type": "markdown",
   "metadata": {
    "colab_type": "text",
    "id": "Mn9WPqaP9RmN"
   },
   "source": []
  },
  {
   "cell_type": "code",
   "execution_count": 10,
   "metadata": {
    "colab": {
     "base_uri": "https://localhost:8080/",
     "height": 3434
    },
    "colab_type": "code",
    "id": "1QlYnFgH9N49",
    "outputId": "14a36271-c14f-4eee-caad-75e23eb989eb"
   },
   "outputs": [
    {
     "name": "stdout",
     "output_type": "stream",
     "text": [
      "Epoch 1/100\n",
      "455/455 [==============================] - 1s 2ms/step - loss: 0.3299\n",
      "Epoch 2/100\n",
      "455/455 [==============================] - 0s 1ms/step - loss: 0.1128\n",
      "Epoch 3/100\n",
      "455/455 [==============================] - 1s 1ms/step - loss: 0.1073\n",
      "Epoch 4/100\n",
      "455/455 [==============================] - 1s 1ms/step - loss: 0.1101\n",
      "Epoch 5/100\n",
      "455/455 [==============================] - 1s 1ms/step - loss: 0.0888\n",
      "Epoch 6/100\n",
      "455/455 [==============================] - 1s 1ms/step - loss: 0.1115\n",
      "Epoch 7/100\n",
      "455/455 [==============================] - 1s 1ms/step - loss: 0.1037\n",
      "Epoch 8/100\n",
      "455/455 [==============================] - 1s 1ms/step - loss: 0.1044\n",
      "Epoch 9/100\n",
      "455/455 [==============================] - 1s 1ms/step - loss: 0.0958\n",
      "Epoch 10/100\n",
      "455/455 [==============================] - 1s 1ms/step - loss: 0.0911\n",
      "Epoch 11/100\n",
      "455/455 [==============================] - 1s 1ms/step - loss: 0.0960\n",
      "Epoch 12/100\n",
      "455/455 [==============================] - 1s 1ms/step - loss: 0.0844\n",
      "Epoch 13/100\n",
      "455/455 [==============================] - 1s 1ms/step - loss: 0.0754\n",
      "Epoch 14/100\n",
      "455/455 [==============================] - 1s 1ms/step - loss: 0.0854\n",
      "Epoch 15/100\n",
      "455/455 [==============================] - 1s 1ms/step - loss: 0.0796\n",
      "Epoch 16/100\n",
      "455/455 [==============================] - 1s 1ms/step - loss: 0.0813\n",
      "Epoch 17/100\n",
      "455/455 [==============================] - 1s 1ms/step - loss: 0.0759\n",
      "Epoch 18/100\n",
      "455/455 [==============================] - 1s 1ms/step - loss: 0.0752\n",
      "Epoch 19/100\n",
      "455/455 [==============================] - 1s 1ms/step - loss: 0.0861\n",
      "Epoch 20/100\n",
      "455/455 [==============================] - 1s 1ms/step - loss: 0.0744\n",
      "Epoch 21/100\n",
      "455/455 [==============================] - 1s 1ms/step - loss: 0.0675\n",
      "Epoch 22/100\n",
      "455/455 [==============================] - 1s 1ms/step - loss: 0.0605\n",
      "Epoch 23/100\n",
      "455/455 [==============================] - 1s 1ms/step - loss: 0.0658\n",
      "Epoch 24/100\n",
      "455/455 [==============================] - 1s 1ms/step - loss: 0.0639\n",
      "Epoch 25/100\n",
      "455/455 [==============================] - 1s 1ms/step - loss: 0.0673\n",
      "Epoch 26/100\n",
      "455/455 [==============================] - 1s 1ms/step - loss: 0.0687\n",
      "Epoch 27/100\n",
      "455/455 [==============================] - 1s 1ms/step - loss: 0.0632\n",
      "Epoch 28/100\n",
      "455/455 [==============================] - 1s 1ms/step - loss: 0.0739\n",
      "Epoch 29/100\n",
      "455/455 [==============================] - 1s 1ms/step - loss: 0.0755\n",
      "Epoch 30/100\n",
      "455/455 [==============================] - 1s 1ms/step - loss: 0.0661\n",
      "Epoch 31/100\n",
      "455/455 [==============================] - 1s 1ms/step - loss: 0.0575\n",
      "Epoch 32/100\n",
      "455/455 [==============================] - 1s 1ms/step - loss: 0.0499\n",
      "Epoch 33/100\n",
      "455/455 [==============================] - 1s 1ms/step - loss: 0.0601\n",
      "Epoch 34/100\n",
      "455/455 [==============================] - 1s 1ms/step - loss: 0.0493\n",
      "Epoch 35/100\n",
      "455/455 [==============================] - 1s 1ms/step - loss: 0.0636\n",
      "Epoch 36/100\n",
      "455/455 [==============================] - 1s 1ms/step - loss: 0.0499\n",
      "Epoch 37/100\n",
      "455/455 [==============================] - 1s 1ms/step - loss: 0.0643\n",
      "Epoch 38/100\n",
      "455/455 [==============================] - 1s 1ms/step - loss: 0.0847\n",
      "Epoch 39/100\n",
      "455/455 [==============================] - 1s 1ms/step - loss: 0.0641\n",
      "Epoch 40/100\n",
      "455/455 [==============================] - 1s 1ms/step - loss: 0.0638\n",
      "Epoch 41/100\n",
      "455/455 [==============================] - 1s 1ms/step - loss: 0.0639\n",
      "Epoch 42/100\n",
      "455/455 [==============================] - 1s 1ms/step - loss: 0.0603\n",
      "Epoch 43/100\n",
      "455/455 [==============================] - 1s 1ms/step - loss: 0.0506\n",
      "Epoch 44/100\n",
      "455/455 [==============================] - 1s 1ms/step - loss: 0.0494\n",
      "Epoch 45/100\n",
      "455/455 [==============================] - 1s 1ms/step - loss: 0.0404\n",
      "Epoch 46/100\n",
      "455/455 [==============================] - 1s 1ms/step - loss: 0.0716\n",
      "Epoch 47/100\n",
      "455/455 [==============================] - 1s 1ms/step - loss: 0.0490\n",
      "Epoch 48/100\n",
      "455/455 [==============================] - 1s 1ms/step - loss: 0.0346\n",
      "Epoch 49/100\n",
      "455/455 [==============================] - 1s 1ms/step - loss: 0.0676\n",
      "Epoch 50/100\n",
      "455/455 [==============================] - 1s 1ms/step - loss: 0.0645\n",
      "Epoch 51/100\n",
      "455/455 [==============================] - 1s 1ms/step - loss: 0.0513\n",
      "Epoch 52/100\n",
      "455/455 [==============================] - 1s 1ms/step - loss: 0.0566\n",
      "Epoch 53/100\n",
      "455/455 [==============================] - 1s 1ms/step - loss: 0.0621\n",
      "Epoch 54/100\n",
      "455/455 [==============================] - 1s 1ms/step - loss: 0.0550\n",
      "Epoch 55/100\n",
      "455/455 [==============================] - 1s 1ms/step - loss: 0.0494\n",
      "Epoch 56/100\n",
      "455/455 [==============================] - 1s 1ms/step - loss: 0.0557\n",
      "Epoch 57/100\n",
      "455/455 [==============================] - 1s 1ms/step - loss: 0.0702\n",
      "Epoch 58/100\n",
      "455/455 [==============================] - 1s 1ms/step - loss: 0.0501\n",
      "Epoch 59/100\n",
      "455/455 [==============================] - 1s 1ms/step - loss: 0.0425\n",
      "Epoch 60/100\n",
      "455/455 [==============================] - 1s 1ms/step - loss: 0.0500\n",
      "Epoch 61/100\n",
      "455/455 [==============================] - 1s 1ms/step - loss: 0.0481\n",
      "Epoch 62/100\n",
      "455/455 [==============================] - 1s 1ms/step - loss: 0.0528\n",
      "Epoch 63/100\n",
      "455/455 [==============================] - 1s 1ms/step - loss: 0.0514\n",
      "Epoch 64/100\n",
      "455/455 [==============================] - 1s 1ms/step - loss: 0.0568\n",
      "Epoch 65/100\n",
      "455/455 [==============================] - 1s 1ms/step - loss: 0.0616\n",
      "Epoch 66/100\n",
      "455/455 [==============================] - 1s 1ms/step - loss: 0.0568\n",
      "Epoch 67/100\n",
      "455/455 [==============================] - 1s 1ms/step - loss: 0.0494\n",
      "Epoch 68/100\n",
      "455/455 [==============================] - 1s 1ms/step - loss: 0.0470\n",
      "Epoch 69/100\n",
      "455/455 [==============================] - 1s 1ms/step - loss: 0.0462\n",
      "Epoch 70/100\n",
      "455/455 [==============================] - 1s 1ms/step - loss: 0.0317\n",
      "Epoch 71/100\n",
      "455/455 [==============================] - 1s 1ms/step - loss: 0.0568\n",
      "Epoch 72/100\n",
      "455/455 [==============================] - 1s 1ms/step - loss: 0.0395\n",
      "Epoch 73/100\n",
      "455/455 [==============================] - 1s 1ms/step - loss: 0.0530\n",
      "Epoch 74/100\n",
      "455/455 [==============================] - 1s 1ms/step - loss: 0.0499\n",
      "Epoch 75/100\n",
      "455/455 [==============================] - 1s 1ms/step - loss: 0.0384\n",
      "Epoch 76/100\n",
      "455/455 [==============================] - 1s 1ms/step - loss: 0.0646\n",
      "Epoch 77/100\n",
      "455/455 [==============================] - 1s 1ms/step - loss: 0.0476\n",
      "Epoch 78/100\n",
      "455/455 [==============================] - 1s 1ms/step - loss: 0.0390\n",
      "Epoch 79/100\n",
      "455/455 [==============================] - 1s 1ms/step - loss: 0.0386\n",
      "Epoch 80/100\n",
      "455/455 [==============================] - 1s 1ms/step - loss: 0.0584\n",
      "Epoch 81/100\n",
      "455/455 [==============================] - 1s 1ms/step - loss: 0.0780\n",
      "Epoch 82/100\n",
      "455/455 [==============================] - 1s 1ms/step - loss: 0.0316\n",
      "Epoch 83/100\n",
      "455/455 [==============================] - 1s 1ms/step - loss: 0.0478\n",
      "Epoch 84/100\n",
      "455/455 [==============================] - 1s 1ms/step - loss: 0.0766\n",
      "Epoch 85/100\n",
      "455/455 [==============================] - 1s 1ms/step - loss: 0.0461\n",
      "Epoch 86/100\n",
      "455/455 [==============================] - 1s 1ms/step - loss: 0.0384\n",
      "Epoch 87/100\n",
      "455/455 [==============================] - 1s 1ms/step - loss: 0.0502\n",
      "Epoch 88/100\n",
      "455/455 [==============================] - 1s 1ms/step - loss: 0.0250\n",
      "Epoch 89/100\n",
      "455/455 [==============================] - 1s 1ms/step - loss: 0.0383\n",
      "Epoch 90/100\n",
      "455/455 [==============================] - 1s 1ms/step - loss: 0.0416\n",
      "Epoch 91/100\n",
      "455/455 [==============================] - 1s 1ms/step - loss: 0.0262\n",
      "Epoch 92/100\n",
      "455/455 [==============================] - 1s 1ms/step - loss: 0.0572\n",
      "Epoch 93/100\n",
      "455/455 [==============================] - 1s 1ms/step - loss: 0.0273\n",
      "Epoch 94/100\n",
      "455/455 [==============================] - 1s 1ms/step - loss: 0.0324\n",
      "Epoch 95/100\n",
      "455/455 [==============================] - 1s 1ms/step - loss: 0.0368\n",
      "Epoch 96/100\n",
      "455/455 [==============================] - 1s 1ms/step - loss: 0.0383\n",
      "Epoch 97/100\n",
      "455/455 [==============================] - 1s 1ms/step - loss: 0.0294\n",
      "Epoch 98/100\n",
      "455/455 [==============================] - 1s 1ms/step - loss: 0.0395\n",
      "Epoch 99/100\n",
      "455/455 [==============================] - 1s 1ms/step - loss: 0.0327\n",
      "Epoch 100/100\n",
      "455/455 [==============================] - 1s 1ms/step - loss: 0.0234\n"
     ]
    },
    {
     "data": {
      "text/plain": [
       "<keras.callbacks.History at 0x7f16006a8780>"
      ]
     },
     "execution_count": 10,
     "metadata": {
      "tags": []
     },
     "output_type": "execute_result"
    }
   ],
   "source": [
    "classifier.fit(X_train, Y_train, batch_size = 1, epochs = 100)"
   ]
  },
  {
   "cell_type": "markdown",
   "metadata": {
    "colab_type": "text",
    "id": "yrnGgtfn9gsE"
   },
   "source": []
  },
  {
   "cell_type": "code",
   "execution_count": 0,
   "metadata": {
    "colab": {},
    "colab_type": "code",
    "id": "xEaG0Tkx9fUU"
   },
   "outputs": [],
   "source": [
    "Y_pred = classifier.predict(X_test)\n",
    "Y_pred = [ 1 if y>=0.5 else 0 for y in Y_pred ]"
   ]
  },
  {
   "cell_type": "markdown",
   "metadata": {
    "colab_type": "text",
    "id": "oQK3Qo9h97OW"
   },
   "source": []
  },
  {
   "cell_type": "code",
   "execution_count": 12,
   "metadata": {
    "colab": {
     "base_uri": "https://localhost:8080/",
     "height": 68
    },
    "colab_type": "code",
    "id": "he_2VHJ_9yC1",
    "outputId": "599dc6b9-0461-4dc8-a63c-98c1fb3af538"
   },
   "outputs": [
    {
     "name": "stdout",
     "output_type": "stream",
     "text": [
      "Total 114\n",
      "Correct 109\n",
      "Wrong 5\n"
     ]
    }
   ],
   "source": [
    "total = 0\n",
    "correct = 0\n",
    "wrong = 0\n",
    "for i in range(len(Y_pred)):\n",
    "  total=total+1\n",
    "  if(Y_test.at[i,0] == Y_pred[i]):\n",
    "    correct=correct+1\n",
    "  else:\n",
    "    wrong=wrong+1\n",
    "\n",
    "print(\"Total \" + str(total))\n",
    "print(\"Correct \" + str(correct))\n",
    "print(\"Wrong \" + str(wrong))"
   ]
  },
  {
   "cell_type": "code",
   "execution_count": 0,
   "metadata": {
    "colab": {},
    "colab_type": "code",
    "id": "hneXafd7Y8c0"
   },
   "outputs": [],
   "source": []
  }
 ],
 "metadata": {
  "colab": {
   "name": "BreastCancer.ipynb",
   "provenance": [],
   "version": "0.3.2"
  },
  "kernelspec": {
   "display_name": "Python 3",
   "language": "python",
   "name": "python3"
  },
  "language_info": {
   "codemirror_mode": {
    "name": "ipython",
    "version": 3
   },
   "file_extension": ".py",
   "mimetype": "text/x-python",
   "name": "python",
   "nbconvert_exporter": "python",
   "pygments_lexer": "ipython3",
   "version": "3.6.4"
  }
 },
 "nbformat": 4,
 "nbformat_minor": 1
}
